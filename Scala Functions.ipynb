{
 "cells": [
  {
   "cell_type": "code",
   "execution_count": null,
   "metadata": {},
   "outputs": [],
   "source": [
    "//Add arguments and the return type to the function signature\n",
    "\n",
    "def cleanData(a: Array[String]): (Array[Double], Array[Double]) = {\n",
    "    //Three helper functions\n",
    "    //myToDouble: converts a string item to a Double or a Some\n",
    "    //mean: calculates the mean\n",
    "    //variance: calculates the variance \n",
    "    \n",
    "    def myToDouble(s: String): Option[Double] = \n",
    "    try {\n",
    "        Some(s.toDouble)\n",
    "    } catch {\n",
    "      case e: Exception => None\n",
    "    }\n",
    "    \n",
    "    def mean(a: Array[Double]): Option[Double] = Some(a.sum/a.length)\n",
    "\n",
    "    def variance(a: Array[Double]): Option[Double] =\n",
    "        mean(a) flatMap(m => mean(a map(x => math pow(x-m,2))))\n",
    "\n",
    "    //Actual calculations\n",
    "    \n",
    "    val p = a.map(l=>l.split(\",\")).map(l=>l.map(myToDouble)).transpose\n",
    "        .map(l => l.flatMap(e => e))\n",
    "    (p.map(mean).flatMap(e => e),p.map(variance).flatMap(e => e))\n",
    "    \n",
    "}\n",
    "\n",
    "\n",
    "//Test cases\n",
    "var test_dataset1 = Array(\"1.2,3.1,2.4\",\" ,1.4,2.1\",\"8.1,2.6,bc\",\"7.1,3.2,9.4\")\n",
    "var test_dataset2 = Array(\"\")\n",
    "var test_dataset3 = Array(\" ,1.2,9.5\",\",3.1,3.2\")\n",
    "val r1 = cleanData(test_dataset1)\n",
    "val r2 = cleanData(test_dataset2)\n",
    "val r3 = cleanData(test_dataset3)\n",
    "\n",
    "//Return values:\n",
    "\n",
    "//r1: (Array[Double], Array[Double]) = (Array(5.466666666666666, 2.575, 4.633333333333334),Array(9.268888888888888, 0.5118750000000001, 11.375555555555556))\n",
    "//r2: (Array[Double], Array[Double]) = (Array(NaN),Array(NaN))\n",
    "//r3: (Array[Double], Array[Double]) = (Array(NaN, 2.15, 6.35),Array(NaN, 0.9025000000000001, 9.9225))"
   ]
  },
  {
   "cell_type": "code",
   "execution_count": null,
   "metadata": {},
   "outputs": [],
   "source": [
    "// isInList takes two arguments, a list of elements and a value and returns true if value is a member of the list.\n",
    "\n",
    "def isInList[A](l: List[A],v: A): Boolean = l.foldLeft(false)((yes,value)=>if (value == v) true else yes)\n",
    "\n",
    "\n",
    "//Test cases\n",
    "val x1 = List(2,5,7,9,11)\n",
    "val x2 = List(\"hello\",\"goodbye\",\"merci\")\n",
    "\n",
    "println(isInList(x1,7)) //true\n",
    "println(isInList(x1,12))  //false\n",
    "println(isInList(x2,\"hello\")) //true\n",
    "println(isInList(x2,\"namaste\")) //false\n",
    "println(isInList(List(),5)) //false\n",
    "\n"
   ]
  },
  {
   "cell_type": "code",
   "execution_count": null,
   "metadata": {},
   "outputs": [],
   "source": [
    "//function average takes an Array of Double and returns the average of the elements of the list.\n",
    "\n",
    "def average(list: List[Double]): Double = \n",
    "    list.foldLeft(0.0,0.0)((avg,v) => ((avg._1*avg._2+v)/(avg._2+1),avg._2+1))._1\n",
    "\n",
    "\n",
    "//Test cases\n",
    "val x1 = List(1.0,2.0,3.0,4.0)\n",
    "val x2 = List(2,5,7,9,11)\n",
    "val x3 = List(4.3)\n",
    "println(average(x1)) //2.5\n",
    "println(average(x2.map(i=>i.toDouble))) //6.8\n",
    "println(average(x3)) //4.3"
   ]
  },
  {
   "cell_type": "code",
   "execution_count": null,
   "metadata": {},
   "outputs": [],
   "source": [
    "// function complement takes a predicate function p of two arguments of any type\n",
    "// and returns a function that takes the same two arguments but returns the complement of p.\n",
    "\n",
    "def complement[A,B](p: (A,B)=>Boolean) = (a: A, b: B) => !p(a,b)\n",
    "\n",
    "def isSquare(a: Int,b: Int): Boolean = b==(a*a)\n",
    "def isShorter(a: Array[Int],b: Array[Int]): Boolean = b.length>a.length\n",
    "\n",
    "\n",
    "\n",
    "\n",
    "\n",
    "//Test cases\n",
    "val r1 = complement(isSquare)(4,16) //false\n",
    "val r2 = complement(isSquare)(4,15) //true\n",
    "val r3 = complement(isShorter)(Array(1,2,3,4),Array(5,6,7,8,9)) //false\n",
    "val r4 = complement(isShorter)(Array(1,2,3,4),Array(5,6,7)) //true\n",
    "\n"
   ]
  },
  {
   "cell_type": "code",
   "execution_count": null,
   "metadata": {},
   "outputs": [],
   "source": []
  }
 ],
 "metadata": {
  "kernelspec": {
   "display_name": "spylon-kernel",
   "language": "scala",
   "name": "spylon-kernel"
  },
  "language_info": {
   "codemirror_mode": "text/x-scala",
   "file_extension": ".scala",
   "help_links": [
    {
     "text": "MetaKernel Magics",
     "url": "https://metakernel.readthedocs.io/en/latest/source/README.html"
    }
   ],
   "mimetype": "text/x-scala",
   "name": "scala",
   "pygments_lexer": "scala",
   "version": "0.4.1"
  }
 },
 "nbformat": 4,
 "nbformat_minor": 2
}
